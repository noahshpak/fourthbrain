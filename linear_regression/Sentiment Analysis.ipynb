{
 "cells": [
  {
   "cell_type": "markdown",
   "id": "medical-accuracy",
   "metadata": {},
   "source": [
    "# Sentiment Analysis + Linear Regression \n",
    "\n",
    "Quickly develop a linear regression based on review text using the SentimentAnalysis model built into TextBlob. To improve this model I would train a model specifically using Spacy."
   ]
  },
  {
   "cell_type": "code",
   "execution_count": 1,
   "id": "occupational-conservative",
   "metadata": {},
   "outputs": [],
   "source": [
    "import pandas as pd\n",
    "raw_df = pd.read_csv('Womens Clothing E-Commerce Reviews.csv', delimiter=',')"
   ]
  },
  {
   "cell_type": "code",
   "execution_count": 2,
   "id": "disabled-jacket",
   "metadata": {},
   "outputs": [],
   "source": [
    "from sklearn.model_selection import train_test_split\n",
    "train, test = train_test_split(raw_df, test_size=0.2, random_state=42)"
   ]
  },
  {
   "cell_type": "code",
   "execution_count": 3,
   "id": "unusual-protest",
   "metadata": {},
   "outputs": [
    {
     "data": {
      "text/html": [
       "<div>\n",
       "<style scoped>\n",
       "    .dataframe tbody tr th:only-of-type {\n",
       "        vertical-align: middle;\n",
       "    }\n",
       "\n",
       "    .dataframe tbody tr th {\n",
       "        vertical-align: top;\n",
       "    }\n",
       "\n",
       "    .dataframe thead th {\n",
       "        text-align: right;\n",
       "    }\n",
       "</style>\n",
       "<table border=\"1\" class=\"dataframe\">\n",
       "  <thead>\n",
       "    <tr style=\"text-align: right;\">\n",
       "      <th></th>\n",
       "      <th>Unnamed: 0</th>\n",
       "      <th>Clothing ID</th>\n",
       "      <th>Age</th>\n",
       "      <th>Title</th>\n",
       "      <th>Review Text</th>\n",
       "      <th>Rating</th>\n",
       "      <th>Recommended IND</th>\n",
       "      <th>Positive Feedback Count</th>\n",
       "      <th>Division Name</th>\n",
       "      <th>Department Name</th>\n",
       "      <th>Class Name</th>\n",
       "    </tr>\n",
       "  </thead>\n",
       "  <tbody>\n",
       "    <tr>\n",
       "      <th>21331</th>\n",
       "      <td>21331</td>\n",
       "      <td>1092</td>\n",
       "      <td>31</td>\n",
       "      <td>Versatile</td>\n",
       "      <td>I passed over this dress online thinking i'd n...</td>\n",
       "      <td>5</td>\n",
       "      <td>1</td>\n",
       "      <td>0</td>\n",
       "      <td>General</td>\n",
       "      <td>Dresses</td>\n",
       "      <td>Dresses</td>\n",
       "    </tr>\n",
       "    <tr>\n",
       "      <th>8113</th>\n",
       "      <td>8113</td>\n",
       "      <td>406</td>\n",
       "      <td>33</td>\n",
       "      <td>Such a unique, flattering swimsuit!</td>\n",
       "      <td>I am so excited about this swimsuit. i have ne...</td>\n",
       "      <td>5</td>\n",
       "      <td>1</td>\n",
       "      <td>0</td>\n",
       "      <td>Initmates</td>\n",
       "      <td>Intimate</td>\n",
       "      <td>Swim</td>\n",
       "    </tr>\n",
       "    <tr>\n",
       "      <th>23036</th>\n",
       "      <td>23036</td>\n",
       "      <td>1008</td>\n",
       "      <td>31</td>\n",
       "      <td>The perfect skirt for all year, every year.</td>\n",
       "      <td>To start: i'm 135 lbs, 5'7\", 34c, 28 jeans, si...</td>\n",
       "      <td>5</td>\n",
       "      <td>1</td>\n",
       "      <td>0</td>\n",
       "      <td>General Petite</td>\n",
       "      <td>Bottoms</td>\n",
       "      <td>Skirts</td>\n",
       "    </tr>\n",
       "    <tr>\n",
       "      <th>316</th>\n",
       "      <td>316</td>\n",
       "      <td>836</td>\n",
       "      <td>59</td>\n",
       "      <td>Love this blouse</td>\n",
       "      <td>I really like this blouse a lot. very very eas...</td>\n",
       "      <td>5</td>\n",
       "      <td>1</td>\n",
       "      <td>0</td>\n",
       "      <td>General</td>\n",
       "      <td>Tops</td>\n",
       "      <td>Blouses</td>\n",
       "    </tr>\n",
       "    <tr>\n",
       "      <th>6781</th>\n",
       "      <td>6781</td>\n",
       "      <td>1030</td>\n",
       "      <td>39</td>\n",
       "      <td>So crazy comfortable</td>\n",
       "      <td>I haven't worn jeans in a year because i felt ...</td>\n",
       "      <td>5</td>\n",
       "      <td>1</td>\n",
       "      <td>0</td>\n",
       "      <td>General</td>\n",
       "      <td>Bottoms</td>\n",
       "      <td>Jeans</td>\n",
       "    </tr>\n",
       "    <tr>\n",
       "      <th>10224</th>\n",
       "      <td>10224</td>\n",
       "      <td>147</td>\n",
       "      <td>46</td>\n",
       "      <td>NaN</td>\n",
       "      <td>NaN</td>\n",
       "      <td>5</td>\n",
       "      <td>1</td>\n",
       "      <td>0</td>\n",
       "      <td>Initmates</td>\n",
       "      <td>Intimate</td>\n",
       "      <td>Sleep</td>\n",
       "    </tr>\n",
       "    <tr>\n",
       "      <th>13108</th>\n",
       "      <td>13108</td>\n",
       "      <td>1037</td>\n",
       "      <td>47</td>\n",
       "      <td>Fit issues!</td>\n",
       "      <td>So these look so good online - i love flare an...</td>\n",
       "      <td>2</td>\n",
       "      <td>0</td>\n",
       "      <td>0</td>\n",
       "      <td>General</td>\n",
       "      <td>Bottoms</td>\n",
       "      <td>Jeans</td>\n",
       "    </tr>\n",
       "    <tr>\n",
       "      <th>9623</th>\n",
       "      <td>9623</td>\n",
       "      <td>862</td>\n",
       "      <td>47</td>\n",
       "      <td>Nicer than a tee, lighter than a sweater</td>\n",
       "      <td>The lightweight knit and flattering colors mad...</td>\n",
       "      <td>5</td>\n",
       "      <td>1</td>\n",
       "      <td>5</td>\n",
       "      <td>General Petite</td>\n",
       "      <td>Tops</td>\n",
       "      <td>Knits</td>\n",
       "    </tr>\n",
       "    <tr>\n",
       "      <th>8504</th>\n",
       "      <td>8504</td>\n",
       "      <td>861</td>\n",
       "      <td>54</td>\n",
       "      <td>NaN</td>\n",
       "      <td>I'm a petite so as usual i have to order from ...</td>\n",
       "      <td>1</td>\n",
       "      <td>0</td>\n",
       "      <td>0</td>\n",
       "      <td>General</td>\n",
       "      <td>Tops</td>\n",
       "      <td>Knits</td>\n",
       "    </tr>\n",
       "    <tr>\n",
       "      <th>11293</th>\n",
       "      <td>11293</td>\n",
       "      <td>829</td>\n",
       "      <td>32</td>\n",
       "      <td>Perfect fall tunic!</td>\n",
       "      <td>This tunic is perfection! this tunic will be p...</td>\n",
       "      <td>5</td>\n",
       "      <td>1</td>\n",
       "      <td>4</td>\n",
       "      <td>General</td>\n",
       "      <td>Tops</td>\n",
       "      <td>Blouses</td>\n",
       "    </tr>\n",
       "    <tr>\n",
       "      <th>22618</th>\n",
       "      <td>22618</td>\n",
       "      <td>1081</td>\n",
       "      <td>25</td>\n",
       "      <td>Unqiue dress!</td>\n",
       "      <td>Cute and different dress, cute with boots.very...</td>\n",
       "      <td>5</td>\n",
       "      <td>1</td>\n",
       "      <td>0</td>\n",
       "      <td>General</td>\n",
       "      <td>Dresses</td>\n",
       "      <td>Dresses</td>\n",
       "    </tr>\n",
       "    <tr>\n",
       "      <th>15662</th>\n",
       "      <td>15662</td>\n",
       "      <td>1078</td>\n",
       "      <td>51</td>\n",
       "      <td>Love this dress!</td>\n",
       "      <td>Love this dress!!! i agree with the other revi...</td>\n",
       "      <td>5</td>\n",
       "      <td>1</td>\n",
       "      <td>0</td>\n",
       "      <td>General Petite</td>\n",
       "      <td>Dresses</td>\n",
       "      <td>Dresses</td>\n",
       "    </tr>\n",
       "    <tr>\n",
       "      <th>6357</th>\n",
       "      <td>6357</td>\n",
       "      <td>1059</td>\n",
       "      <td>36</td>\n",
       "      <td>NaN</td>\n",
       "      <td>These pants are amazing and great quality! tha...</td>\n",
       "      <td>5</td>\n",
       "      <td>1</td>\n",
       "      <td>0</td>\n",
       "      <td>General</td>\n",
       "      <td>Bottoms</td>\n",
       "      <td>Pants</td>\n",
       "    </tr>\n",
       "    <tr>\n",
       "      <th>21008</th>\n",
       "      <td>21008</td>\n",
       "      <td>895</td>\n",
       "      <td>19</td>\n",
       "      <td>Comfortable cardigan</td>\n",
       "      <td>I loved the color (it is different than in the...</td>\n",
       "      <td>4</td>\n",
       "      <td>1</td>\n",
       "      <td>0</td>\n",
       "      <td>General Petite</td>\n",
       "      <td>Tops</td>\n",
       "      <td>Fine gauge</td>\n",
       "    </tr>\n",
       "    <tr>\n",
       "      <th>4730</th>\n",
       "      <td>4730</td>\n",
       "      <td>1080</td>\n",
       "      <td>41</td>\n",
       "      <td>Absolutely amazing</td>\n",
       "      <td>This is such a simple dress to throw on that w...</td>\n",
       "      <td>5</td>\n",
       "      <td>1</td>\n",
       "      <td>1</td>\n",
       "      <td>General</td>\n",
       "      <td>Dresses</td>\n",
       "      <td>Dresses</td>\n",
       "    </tr>\n",
       "    <tr>\n",
       "      <th>9514</th>\n",
       "      <td>9514</td>\n",
       "      <td>895</td>\n",
       "      <td>50</td>\n",
       "      <td>NaN</td>\n",
       "      <td>I loved this at first....but the quality is aw...</td>\n",
       "      <td>3</td>\n",
       "      <td>0</td>\n",
       "      <td>0</td>\n",
       "      <td>General</td>\n",
       "      <td>Tops</td>\n",
       "      <td>Fine gauge</td>\n",
       "    </tr>\n",
       "    <tr>\n",
       "      <th>14455</th>\n",
       "      <td>14455</td>\n",
       "      <td>863</td>\n",
       "      <td>37</td>\n",
       "      <td>NaN</td>\n",
       "      <td>I love this top! i was hesitant about purchasi...</td>\n",
       "      <td>4</td>\n",
       "      <td>1</td>\n",
       "      <td>0</td>\n",
       "      <td>General</td>\n",
       "      <td>Tops</td>\n",
       "      <td>Knits</td>\n",
       "    </tr>\n",
       "    <tr>\n",
       "      <th>16731</th>\n",
       "      <td>16731</td>\n",
       "      <td>8</td>\n",
       "      <td>33</td>\n",
       "      <td>Love this suit!</td>\n",
       "      <td>I am 5'5, 150lb, generally size medium shirt, ...</td>\n",
       "      <td>5</td>\n",
       "      <td>1</td>\n",
       "      <td>0</td>\n",
       "      <td>Initmates</td>\n",
       "      <td>Intimate</td>\n",
       "      <td>Swim</td>\n",
       "    </tr>\n",
       "    <tr>\n",
       "      <th>14601</th>\n",
       "      <td>14601</td>\n",
       "      <td>332</td>\n",
       "      <td>57</td>\n",
       "      <td>NaN</td>\n",
       "      <td>NaN</td>\n",
       "      <td>5</td>\n",
       "      <td>1</td>\n",
       "      <td>0</td>\n",
       "      <td>General</td>\n",
       "      <td>Bottoms</td>\n",
       "      <td>Shorts</td>\n",
       "    </tr>\n",
       "    <tr>\n",
       "      <th>9849</th>\n",
       "      <td>9849</td>\n",
       "      <td>1078</td>\n",
       "      <td>64</td>\n",
       "      <td>Difficult to get in-and-out of....</td>\n",
       "      <td>I ordered this in lime, which is one of my fav...</td>\n",
       "      <td>3</td>\n",
       "      <td>0</td>\n",
       "      <td>0</td>\n",
       "      <td>General Petite</td>\n",
       "      <td>Dresses</td>\n",
       "      <td>Dresses</td>\n",
       "    </tr>\n",
       "  </tbody>\n",
       "</table>\n",
       "</div>"
      ],
      "text/plain": [
       "       Unnamed: 0  Clothing ID  Age  \\\n",
       "21331       21331         1092   31   \n",
       "8113         8113          406   33   \n",
       "23036       23036         1008   31   \n",
       "316           316          836   59   \n",
       "6781         6781         1030   39   \n",
       "10224       10224          147   46   \n",
       "13108       13108         1037   47   \n",
       "9623         9623          862   47   \n",
       "8504         8504          861   54   \n",
       "11293       11293          829   32   \n",
       "22618       22618         1081   25   \n",
       "15662       15662         1078   51   \n",
       "6357         6357         1059   36   \n",
       "21008       21008          895   19   \n",
       "4730         4730         1080   41   \n",
       "9514         9514          895   50   \n",
       "14455       14455          863   37   \n",
       "16731       16731            8   33   \n",
       "14601       14601          332   57   \n",
       "9849         9849         1078   64   \n",
       "\n",
       "                                             Title  \\\n",
       "21331                                    Versatile   \n",
       "8113           Such a unique, flattering swimsuit!   \n",
       "23036  The perfect skirt for all year, every year.   \n",
       "316                               Love this blouse   \n",
       "6781                          So crazy comfortable   \n",
       "10224                                          NaN   \n",
       "13108                                  Fit issues!   \n",
       "9623      Nicer than a tee, lighter than a sweater   \n",
       "8504                                           NaN   \n",
       "11293                          Perfect fall tunic!   \n",
       "22618                                Unqiue dress!   \n",
       "15662                             Love this dress!   \n",
       "6357                                           NaN   \n",
       "21008                         Comfortable cardigan   \n",
       "4730                            Absolutely amazing   \n",
       "9514                                           NaN   \n",
       "14455                                          NaN   \n",
       "16731                              Love this suit!   \n",
       "14601                                          NaN   \n",
       "9849            Difficult to get in-and-out of....   \n",
       "\n",
       "                                             Review Text  Rating  \\\n",
       "21331  I passed over this dress online thinking i'd n...       5   \n",
       "8113   I am so excited about this swimsuit. i have ne...       5   \n",
       "23036  To start: i'm 135 lbs, 5'7\", 34c, 28 jeans, si...       5   \n",
       "316    I really like this blouse a lot. very very eas...       5   \n",
       "6781   I haven't worn jeans in a year because i felt ...       5   \n",
       "10224                                                NaN       5   \n",
       "13108  So these look so good online - i love flare an...       2   \n",
       "9623   The lightweight knit and flattering colors mad...       5   \n",
       "8504   I'm a petite so as usual i have to order from ...       1   \n",
       "11293  This tunic is perfection! this tunic will be p...       5   \n",
       "22618  Cute and different dress, cute with boots.very...       5   \n",
       "15662  Love this dress!!! i agree with the other revi...       5   \n",
       "6357   These pants are amazing and great quality! tha...       5   \n",
       "21008  I loved the color (it is different than in the...       4   \n",
       "4730   This is such a simple dress to throw on that w...       5   \n",
       "9514   I loved this at first....but the quality is aw...       3   \n",
       "14455  I love this top! i was hesitant about purchasi...       4   \n",
       "16731  I am 5'5, 150lb, generally size medium shirt, ...       5   \n",
       "14601                                                NaN       5   \n",
       "9849   I ordered this in lime, which is one of my fav...       3   \n",
       "\n",
       "       Recommended IND  Positive Feedback Count   Division Name  \\\n",
       "21331                1                        0         General   \n",
       "8113                 1                        0       Initmates   \n",
       "23036                1                        0  General Petite   \n",
       "316                  1                        0         General   \n",
       "6781                 1                        0         General   \n",
       "10224                1                        0       Initmates   \n",
       "13108                0                        0         General   \n",
       "9623                 1                        5  General Petite   \n",
       "8504                 0                        0         General   \n",
       "11293                1                        4         General   \n",
       "22618                1                        0         General   \n",
       "15662                1                        0  General Petite   \n",
       "6357                 1                        0         General   \n",
       "21008                1                        0  General Petite   \n",
       "4730                 1                        1         General   \n",
       "9514                 0                        0         General   \n",
       "14455                1                        0         General   \n",
       "16731                1                        0       Initmates   \n",
       "14601                1                        0         General   \n",
       "9849                 0                        0  General Petite   \n",
       "\n",
       "      Department Name  Class Name  \n",
       "21331         Dresses     Dresses  \n",
       "8113         Intimate        Swim  \n",
       "23036         Bottoms      Skirts  \n",
       "316              Tops     Blouses  \n",
       "6781          Bottoms       Jeans  \n",
       "10224        Intimate       Sleep  \n",
       "13108         Bottoms       Jeans  \n",
       "9623             Tops       Knits  \n",
       "8504             Tops       Knits  \n",
       "11293            Tops     Blouses  \n",
       "22618         Dresses     Dresses  \n",
       "15662         Dresses     Dresses  \n",
       "6357          Bottoms       Pants  \n",
       "21008            Tops  Fine gauge  \n",
       "4730          Dresses     Dresses  \n",
       "9514             Tops  Fine gauge  \n",
       "14455            Tops       Knits  \n",
       "16731        Intimate        Swim  \n",
       "14601         Bottoms      Shorts  \n",
       "9849          Dresses     Dresses  "
      ]
     },
     "execution_count": 3,
     "metadata": {},
     "output_type": "execute_result"
    }
   ],
   "source": [
    "train.head(20)"
   ]
  },
  {
   "cell_type": "code",
   "execution_count": 4,
   "id": "traditional-alabama",
   "metadata": {},
   "outputs": [],
   "source": [
    "from textblob import TextBlob\n",
    "\n",
    "def sentiment(text):\n",
    "    if not text or pd.isna(text):\n",
    "        return  {\"polarity\": 0.0, \"subjectivity\": 0.0}\n",
    "    doc = TextBlob(text)\n",
    "    return {\"polarity\": doc.sentiment.polarity, \"subjectivity\": doc.sentiment.subjectivity}"
   ]
  },
  {
   "cell_type": "code",
   "execution_count": 5,
   "id": "micro-hungary",
   "metadata": {},
   "outputs": [
    {
     "data": {
      "text/plain": [
       "<AxesSubplot:ylabel='Frequency'>"
      ]
     },
     "execution_count": 5,
     "metadata": {},
     "output_type": "execute_result"
    },
    {
     "data": {
      "image/png": "[encoded data removed]",
      "text/plain": [
       "<Figure size 432x288 with 1 Axes>"
      ]
     },
     "metadata": {
      "needs_background": "light"
     },
     "output_type": "display_data"
    }
   ],
   "source": [
    "train[\"Age\"].plot.hist(bins=5, alpha=0.2)"
   ]
  },
  {
   "cell_type": "code",
   "execution_count": 9,
   "id": "clean-scottish",
   "metadata": {},
   "outputs": [
    {
     "data": {
      "text/plain": [
       "<AxesSubplot:ylabel='Frequency'>"
      ]
     },
     "execution_count": 9,
     "metadata": {},
     "output_type": "execute_result"
    },
    {
     "data": {
      "image/png": "[encoded data removed]",
      "text/plain": [
       "<Figure size 432x288 with 1 Axes>"
      ]
     },
     "metadata": {
      "needs_background": "light"
     },
     "output_type": "display_data"
    }
   ],
   "source": [
    "train[\"Rating\"].plot.hist()"
   ]
  },
  {
   "cell_type": "code",
   "execution_count": 10,
   "id": "bacterial-charlotte",
   "metadata": {},
   "outputs": [
    {
     "data": {
      "text/plain": [
       "<AxesSubplot:xlabel='Age', ylabel='Rating'>"
      ]
     },
     "execution_count": 10,
     "metadata": {},
     "output_type": "execute_result"
    },
    {
     "data": {
      "image/png": "[encoded data removed]",
      "text/plain": [
       "<Figure size 432x288 with 1 Axes>"
      ]
     },
     "metadata": {
      "needs_background": "light"
     },
     "output_type": "display_data"
    }
   ],
   "source": [
    "train.plot(kind=\"scatter\", x=\"Age\", y=\"Rating\", alpha=0.2)"
   ]
  },
  {
   "cell_type": "code",
   "execution_count": 11,
   "id": "fifty-morocco",
   "metadata": {},
   "outputs": [
    {
     "data": {
      "text/plain": [
       "Rating                     1.000000\n",
       "Recommended IND            0.793989\n",
       "Age                        0.027973\n",
       "Unnamed: 0                -0.009647\n",
       "Clothing ID               -0.013731\n",
       "Positive Feedback Count   -0.062996\n",
       "Name: Rating, dtype: float64"
      ]
     },
     "execution_count": 11,
     "metadata": {},
     "output_type": "execute_result"
    }
   ],
   "source": [
    "train.corr()[\"Rating\"].sort_values(ascending=False)"
   ]
  },
  {
   "cell_type": "code",
   "execution_count": 12,
   "id": "valuable-variety",
   "metadata": {},
   "outputs": [],
   "source": [
    "def bin_feature(df, column, bins, labels):\n",
    "    return pd.cut(df[column], bins=bins, labels=labels)"
   ]
  },
  {
   "cell_type": "code",
   "execution_count": 26,
   "id": "dominant-geometry",
   "metadata": {},
   "outputs": [],
   "source": [
    "def transform(df):\n",
    "    df = df.copy()\n",
    "    bins = [0, 20, 35, 60, 150]\n",
    "    labels = [1,2,3,4]\n",
    "    df[\"age_binned\"] = bin_feature(df=df, column=\"Age\", bins=bins, labels=labels)\n",
    "    df = df.merge(df[\"Review Text\"].apply(lambda s: pd.Series(sentiment(s))), left_index=True, right_index=True)\n",
    "    return df[[\"age_binned\", \"polarity\", \"subjectivity\"]], df[\"Rating\"]\n",
    "\n",
    "X_train, y_train = transform(train)\n",
    "X_test, y_test = transform(test)"
   ]
  },
  {
   "cell_type": "code",
   "execution_count": 27,
   "id": "charming-mention",
   "metadata": {},
   "outputs": [
    {
     "data": {
      "text/plain": [
       "(18788, 3)"
      ]
     },
     "execution_count": 27,
     "metadata": {},
     "output_type": "execute_result"
    }
   ],
   "source": [
    "X_train.shape"
   ]
  },
  {
   "cell_type": "code",
   "execution_count": 28,
   "id": "sophisticated-excuse",
   "metadata": {},
   "outputs": [
    {
     "data": {
      "text/plain": [
       "(18788,)"
      ]
     },
     "execution_count": 28,
     "metadata": {},
     "output_type": "execute_result"
    }
   ],
   "source": [
    "y_train.shape"
   ]
  },
  {
   "cell_type": "code",
   "execution_count": 29,
   "id": "unable-coating",
   "metadata": {},
   "outputs": [
    {
     "data": {
      "text/plain": [
       "(4698, 3)"
      ]
     },
     "execution_count": 29,
     "metadata": {},
     "output_type": "execute_result"
    }
   ],
   "source": [
    "X_test.shape"
   ]
  },
  {
   "cell_type": "code",
   "execution_count": 30,
   "id": "brief-teddy",
   "metadata": {},
   "outputs": [
    {
     "data": {
      "text/plain": [
       "(4698,)"
      ]
     },
     "execution_count": 30,
     "metadata": {},
     "output_type": "execute_result"
    }
   ],
   "source": [
    "y_test.shape"
   ]
  },
  {
   "cell_type": "code",
   "execution_count": 31,
   "id": "composed-scott",
   "metadata": {},
   "outputs": [
    {
     "data": {
      "text/plain": [
       "LinearRegression()"
      ]
     },
     "execution_count": 31,
     "metadata": {},
     "output_type": "execute_result"
    }
   ],
   "source": [
    "from sklearn.linear_model import LinearRegression\n",
    "\n",
    "lin_reg = LinearRegression()\n",
    "lin_reg.fit(X_train.values, y_train.values)"
   ]
  },
  {
   "cell_type": "code",
   "execution_count": 32,
   "id": "domestic-portugal",
   "metadata": {},
   "outputs": [
    {
     "data": {
      "text/plain": [
       "array([4.33755844, 4.9270323 , 4.27284182, 4.43059911, 3.39567818])"
      ]
     },
     "execution_count": 32,
     "metadata": {},
     "output_type": "execute_result"
    }
   ],
   "source": [
    "some_features = X_train.iloc[:5]\n",
    "some_labels = y_train.iloc[:5]\n",
    "lin_reg.predict(some_features)"
   ]
  },
  {
   "cell_type": "code",
   "execution_count": 33,
   "id": "bottom-circle",
   "metadata": {},
   "outputs": [
    {
     "data": {
      "text/plain": [
       "21331    5\n",
       "8113     5\n",
       "23036    5\n",
       "316      5\n",
       "6781     5\n",
       "Name: Rating, dtype: int64"
      ]
     },
     "execution_count": 33,
     "metadata": {},
     "output_type": "execute_result"
    }
   ],
   "source": [
    "some_labels"
   ]
  },
  {
   "cell_type": "code",
   "execution_count": 34,
   "id": "brazilian-infection",
   "metadata": {},
   "outputs": [
    {
     "name": "stdout",
     "output_type": "stream",
     "text": [
      "Train RMSE 1.055103295101889\n",
      "Test RMSE 1.0499987993457605\n"
     ]
    }
   ],
   "source": [
    "from sklearn.metrics import mean_squared_error\n",
    "\n",
    "def evaluate(model, x, y_true):\n",
    "    y_pred = lin_reg.predict(x)\n",
    "    return mean_squared_error(y_true, y_pred)\n",
    "\n",
    "print(\"Train RMSE\", evaluate(lin_reg, X_train, y_train))\n",
    "print(\"Test RMSE\", evaluate(lin_reg, X_test, y_test))"
   ]
  },
  {
   "cell_type": "code",
   "execution_count": null,
   "id": "central-alcohol",
   "metadata": {},
   "outputs": [],
   "source": []
  }
 ],
 "metadata": {
  "kernelspec": {
   "display_name": "Python 3",
   "language": "python",
   "name": "python3"
  },
  "language_info": {
   "codemirror_mode": {
    "name": "ipython",
    "version": 3
   },
   "file_extension": ".py",
   "mimetype": "text/x-python",
   "name": "python",
   "nbconvert_exporter": "python",
   "pygments_lexer": "ipython3",
   "version": "3.7.7"
  }
 },
 "nbformat": 4,
 "nbformat_minor": 5
}
