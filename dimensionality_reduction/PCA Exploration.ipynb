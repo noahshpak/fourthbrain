{
 "cells": [
  {
   "cell_type": "code",
   "execution_count": 1,
   "id": "black-maryland",
   "metadata": {},
   "outputs": [],
   "source": [
    "import numpy as np\n",
    "from sklearn.decomposition import PCA\n",
    "from sklearn.datasets import load_digits\n",
    "from sklearn.model_selection import train_test_split"
   ]
  },
  {
   "cell_type": "code",
   "execution_count": 5,
   "id": "acute-andorra",
   "metadata": {},
   "outputs": [
    {
     "name": "stdout",
     "output_type": "stream",
     "text": [
      "X_train shape (1257, 64)\n",
      "\n",
      "Example Digit 3\n"
     ]
    },
    {
     "data": {
      "text/plain": [
       "<Figure size 432x288 with 0 Axes>"
      ]
     },
     "metadata": {},
     "output_type": "display_data"
    },
    {
     "data": {
      "image/png": "[encoded data removed]",
      "text/plain": [
       "<Figure size 288x288 with 1 Axes>"
      ]
     },
     "metadata": {
      "needs_background": "light"
     },
     "output_type": "display_data"
    }
   ],
   "source": [
    "import matplotlib.pyplot as plt\n",
    "plt.gray()\n",
    "\n",
    "\n",
    "def load_ds():\n",
    "    ds = load_digits()\n",
    "    X_train, X_test, y_train, y_test = train_test_split(ds.data, ds.target, test_size=0.3, random_state=10)\n",
    "    print(\"X_train shape\", X_train.shape)\n",
    "    print(\"\\nExample Digit\", y_train[11])\n",
    "    plt.matshow(X_train[11].reshape(8, -1))\n",
    "    return X_train, X_test, y_train, y_test\n",
    "    \n",
    "X_train, X_test, y_train, y_test = load_ds()"
   ]
  },
  {
   "cell_type": "code",
   "execution_count": 12,
   "id": "caroline-bankruptcy",
   "metadata": {},
   "outputs": [],
   "source": [
    "def find_correct_num_components(X_train):\n",
    "    ds_variance = np.mean(np.square(np.linalg.norm(X_train, axis=1)))\n",
    "    n = []\n",
    "    projection_errors = []\n",
    "    for n_components in range(1, X_train.shape[-1]-1):\n",
    "        clf = PCA(n_components=n_components)\n",
    "        clf.fit(X_train)\n",
    "        X_projected = clf.inverse_transform(clf.transform(X_train))\n",
    "        projection_error = np.mean(np.square(np.linalg.norm(X_train - X_projected, axis=1)))\n",
    "        n.append(n_components)\n",
    "        projection_errors.append(projection_error / ds_variance)\n",
    "    plt.scatter(n, projection_errors)\n",
    "    "
   ]
  },
  {
   "cell_type": "code",
   "execution_count": 13,
   "id": "existing-reflection",
   "metadata": {},
   "outputs": [
    {
     "data": {
      "image/png": "[encoded data removed]",
      "text/plain": [
       "<Figure size 432x288 with 1 Axes>"
      ]
     },
     "metadata": {
      "needs_background": "light"
     },
     "output_type": "display_data"
    }
   ],
   "source": [
    "find_correct_num_components(X_train)"
   ]
  },
  {
   "cell_type": "code",
   "execution_count": null,
   "id": "explicit-process",
   "metadata": {},
   "outputs": [],
   "source": []
  }
 ],
 "metadata": {
  "kernelspec": {
   "display_name": "Python 3",
   "language": "python",
   "name": "python3"
  },
  "language_info": {
   "codemirror_mode": {
    "name": "ipython",
    "version": 3
   },
   "file_extension": ".py",
   "mimetype": "text/x-python",
   "name": "python",
   "nbconvert_exporter": "python",
   "pygments_lexer": "ipython3",
   "version": "3.7.7"
  }
 },
 "nbformat": 4,
 "nbformat_minor": 5
}
