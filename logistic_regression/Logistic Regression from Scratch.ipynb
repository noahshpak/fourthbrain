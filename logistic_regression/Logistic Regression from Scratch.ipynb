{
 "cells": [
  {
   "cell_type": "code",
   "execution_count": 1,
   "id": "wrong-forge",
   "metadata": {},
   "outputs": [],
   "source": [
    "import numpy as np"
   ]
  },
  {
   "cell_type": "code",
   "execution_count": 2,
   "id": "fancy-rainbow",
   "metadata": {},
   "outputs": [],
   "source": [
    "m = 100\n",
    "X = np.random.random((m, 1))\n",
    "theta = np.zeros((2, 1))"
   ]
  },
  {
   "cell_type": "code",
   "execution_count": 3,
   "id": "removable-hawaii",
   "metadata": {},
   "outputs": [],
   "source": [
    "Y = np.where(X > 0.5, np.ones((m, 1)), np.zeros((m, 1)))"
   ]
  },
  {
   "cell_type": "code",
   "execution_count": 26,
   "id": "micro-minutes",
   "metadata": {},
   "outputs": [],
   "source": [
    "def sigmoid(z):\n",
    "    return 1 / (1 + np.exp(-z))\n",
    "    \n",
    "def h(X, theta):\n",
    "    tempX = np.append(np.ones((m, 1)), X, axis=1)\n",
    "    return sigmoid(tempX @ theta)\n",
    "    \n",
    "def loss(theta, X, Y):\n",
    "    \"\"\"Log Loss\"\"\"\n",
    "    y_hat = h(X, theta)\n",
    "    return -np.mean(Y * np.log(y_hat) + ((1 - Y)*np.log(1-y_hat)))"
   ]
  },
  {
   "cell_type": "code",
   "execution_count": 27,
   "id": "adopted-sound",
   "metadata": {},
   "outputs": [],
   "source": [
    "preds_with_zero_theta = 0.5*np.ones((m, 1))\n",
    "assert loss(theta, X, Y) == -np.mean(Y * np.log(preds_with_zero_theta) + ((1-Y)*np.log(1-preds_with_zero_theta)))"
   ]
  },
  {
   "cell_type": "code",
   "execution_count": 67,
   "id": "bigger-dakota",
   "metadata": {},
   "outputs": [],
   "source": [
    "def gradient(theta, X, Y):\n",
    "    tempX = np.append(np.ones((m, 1)), X, axis=1)\n",
    "    y_hat = h(X, theta)\n",
    "    return tempX.T.dot(y_hat - Y) / tempX.shape[0]"
   ]
  },
  {
   "cell_type": "code",
   "execution_count": 68,
   "id": "similar-carry",
   "metadata": {},
   "outputs": [
    {
     "data": {
      "text/plain": [
       "array([[ 0.11      ],\n",
       "       [-0.07150723]])"
      ]
     },
     "execution_count": 68,
     "metadata": {},
     "output_type": "execute_result"
    }
   ],
   "source": [
    "gradient(theta, X, Y)"
   ]
  },
  {
   "cell_type": "code",
   "execution_count": 89,
   "id": "seven-princess",
   "metadata": {},
   "outputs": [],
   "source": [
    "def bgd(X, Y, theta, lr=1, epochs=100):\n",
    "    for i in range(epochs):\n",
    "        theta = theta - lr*gradient(theta, X, Y)\n",
    "        cost = loss(theta, X, Y)\n",
    "    print(\"Cost\", cost)\n",
    "    return theta"
   ]
  },
  {
   "cell_type": "code",
   "execution_count": 90,
   "id": "enabling-ladder",
   "metadata": {},
   "outputs": [
    {
     "name": "stdout",
     "output_type": "stream",
     "text": [
      "Cost 0.1667910079751432\n"
     ]
    }
   ],
   "source": [
    "theta = bgd(X, Y, theta)"
   ]
  },
  {
   "cell_type": "code",
   "execution_count": 91,
   "id": "located-anderson",
   "metadata": {},
   "outputs": [],
   "source": [
    "preds = np.where(h(X, theta) > 0.5, np.ones((m, 1)), np.zeros((m,1)))"
   ]
  },
  {
   "cell_type": "code",
   "execution_count": 92,
   "id": "written-crack",
   "metadata": {},
   "outputs": [
    {
     "data": {
      "text/plain": [
       "1.0"
      ]
     },
     "execution_count": 92,
     "metadata": {},
     "output_type": "execute_result"
    }
   ],
   "source": [
    "np.mean(preds == Y)"
   ]
  },
  {
   "cell_type": "code",
   "execution_count": null,
   "id": "pointed-ancient",
   "metadata": {},
   "outputs": [],
   "source": []
  }
 ],
 "metadata": {
  "kernelspec": {
   "display_name": "Python 3 (ipykernel)",
   "language": "python",
   "name": "python3"
  },
  "language_info": {
   "codemirror_mode": {
    "name": "ipython",
    "version": 3
   },
   "file_extension": ".py",
   "mimetype": "text/x-python",
   "name": "python",
   "nbconvert_exporter": "python",
   "pygments_lexer": "ipython3",
   "version": "3.7.7"
  }
 },
 "nbformat": 4,
 "nbformat_minor": 5
}
