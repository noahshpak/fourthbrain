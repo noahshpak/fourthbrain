{
 "cells": [
  {
   "cell_type": "markdown",
   "metadata": {
    "id": "ieUiNqS3KCZw"
   },
   "source": [
    "# Label Propagation\n",
    "\n",
    "## Label propagation is similar to training a classification model and then using that model to make predictions on test data. The key difference is that in general, our analogue to the test data has no labels against which to evaluate our model. In this exercise, we keep the entire set of true labels for illustrative purposes, but the vast marjority of them play no role in training the model. \n",
    "\n",
    "## This exercise is adapted from scikit-learn's [tutorial](https://scikit-learn.org/stable/auto_examples/semi_supervised/plot_label_propagation_digits.html) on zero shot learning ."
   ]
  },
  {
   "cell_type": "markdown",
   "metadata": {
    "id": "IESgGiUAlfZn"
   },
   "source": [
    "### Load the necessary modules and functions"
   ]
  },
  {
   "cell_type": "code",
   "execution_count": 1,
   "metadata": {
    "id": "hOVZd8fjgJyK"
   },
   "outputs": [],
   "source": [
    "import numpy as np\n",
    "import matplotlib.pyplot as plt\n",
    "\n",
    "from scipy import stats\n",
    "\n",
    "from sklearn import datasets\n",
    "from sklearn.semi_supervised import LabelSpreading\n",
    "\n",
    "from sklearn.metrics import confusion_matrix, classification_report"
   ]
  },
  {
   "cell_type": "markdown",
   "metadata": {
    "id": "0An6u8e9loVQ"
   },
   "source": [
    "### Exercise: Load and preprocess the data. \n",
    "1. Shuffle the indices\n",
    "2. Use the shuffled indices to extract 1000 random samples from the features data\n",
    "3. Extract the corresponding 1000 labels and images\n",
    "4. Copy the labels. Treat the first 50 shuffled samples as labeled data and the rest as unlabeled data. Replace the labels after the first 50 with -1.\n",
    "\n",
    "We'll use this copy of our labels (with 50 labels known and the other 950 hidden) to train our model, and use the original copy (with all 1000 labels known) to evaluate the model."
   ]
  },
  {
   "cell_type": "code",
   "execution_count": 2,
   "metadata": {},
   "outputs": [],
   "source": [
    "# Load the digits dataset\n",
    "# digits = {data,target,indices}; n = 1797\n",
    "digits = datasets.load_digits()"
   ]
  },
  {
   "cell_type": "code",
   "execution_count": 3,
   "metadata": {},
   "outputs": [],
   "source": [
    "# Set the random state to 2 for reproducibility\n",
    "rng = np.random.RandomState(2)\n",
    "\n",
    "### START CODE HERE ###\n",
    "# Initialize the indices as an ordered array, with each element corresponding to a sample in the dataset\n",
    "indices= np.random.permutation(digits.data.shape[0])\n",
    "\n",
    "\n",
    "# Use the shuffled indices to extract 1000 feature vectors, labels, and images\n",
    "n_total_samples = 1000\n",
    "# Features\n",
    "X = digits.data[indices[:n_total_samples]]\n",
    "# Labels\n",
    "y = digits.target[indices[:n_total_samples]]\n",
    "# Images\n",
    "images = digits.images[indices[:n_total_samples]]"
   ]
  },
  {
   "cell_type": "code",
   "execution_count": 62,
   "metadata": {
    "id": "XyaWhrhCgJyO"
   },
   "outputs": [],
   "source": [
    "# Copy the labels\n",
    "y_train = y.copy()\n",
    "\n",
    "# Replace all of the elements of y_train after the first 50 with -1, rendering them unlabeled\n",
    "\n",
    "n_labeled_points = 250\n",
    "# Create an ordered array of indices of the training data\n",
    "train_indices =  np.arange(X.shape[0])\n",
    "# Define the training data indices after n_labeled_points as unlabeled\n",
    "unlabeled_set = train_indices[n_labeled_points:]\n",
    "# Conduct the label replacement\n",
    "y_train[unlabeled_set] = -1\n",
    "### END CODE HERE ###"
   ]
  },
  {
   "cell_type": "code",
   "execution_count": 63,
   "metadata": {},
   "outputs": [
    {
     "data": {
      "text/plain": [
       "array([[ 0.,  0.,  7., ...,  0.,  0.,  0.],\n",
       "       [ 0.,  0.,  2., ...,  5.,  0.,  0.],\n",
       "       [ 0.,  0.,  0., ...,  8.,  0.,  0.],\n",
       "       ...,\n",
       "       [ 0.,  0.,  7., ..., 16.,  4.,  0.],\n",
       "       [ 0.,  0.,  6., ...,  1.,  0.,  0.],\n",
       "       [ 0.,  0.,  9., ...,  0.,  0.,  0.]])"
      ]
     },
     "execution_count": 63,
     "metadata": {},
     "output_type": "execute_result"
    }
   ],
   "source": [
    "X[unlabeled_set]"
   ]
  },
  {
   "cell_type": "markdown",
   "metadata": {
    "id": "Ij_hVMtyvomW"
   },
   "source": [
    "### Verify that the labels are randomly distributed and all the labels after the first 50 in `y_train` are hidden"
   ]
  },
  {
   "cell_type": "code",
   "execution_count": 64,
   "metadata": {
    "id": "39CAoaBzgJyR"
   },
   "outputs": [
    {
     "data": {
      "text/plain": [
       "(array([1., 0., 0., 1., 1., 0., 2., 1., 2., 2.]),\n",
       " array([19. , 19.9, 20.8, 21.7, 22.6, 23.5, 24.4, 25.3, 26.2, 27.1, 28. ]),\n",
       " <BarContainer object of 10 artists>)"
      ]
     },
     "execution_count": 64,
     "metadata": {},
     "output_type": "execute_result"
    },
    {
     "data": {
      "image/png": "[encoded data removed]",
      "text/plain": [
       "<Figure size 432x288 with 1 Axes>"
      ]
     },
     "metadata": {
      "needs_background": "light"
     },
     "output_type": "display_data"
    }
   ],
   "source": [
    "plt.hist(np.bincount(y_train[:n_labeled_points]))"
   ]
  },
  {
   "cell_type": "markdown",
   "metadata": {
    "id": "40hk3UKewEZe"
   },
   "source": [
    "### Exercise: Train the label propagation model with `gamma = 0.25` and `max_iter = 20`\n",
    "\n",
    "### Make sure you pass in the correct version of the target array, i.e. the one containing unlabeled data"
   ]
  },
  {
   "cell_type": "code",
   "execution_count": 65,
   "metadata": {
    "id": "8wHcs3qkgJyW"
   },
   "outputs": [
    {
     "data": {
      "text/plain": [
       "LabelPropagation(gamma=0.25, max_iter=20)"
      ]
     },
     "execution_count": 65,
     "metadata": {},
     "output_type": "execute_result"
    }
   ],
   "source": [
    "from sklearn.semi_supervised import LabelPropagation\n",
    "# Initialize the model\n",
    "lp_model = LabelPropagation(gamma=0.25, max_iter=20)\n",
    "# Train the model\n",
    "lp_model.fit(X, y_train)\n",
    "### END CODE HERE ###"
   ]
  },
  {
   "cell_type": "markdown",
   "metadata": {
    "id": "LTBwLj2Gy8qM"
   },
   "source": [
    "### Exercise: Evaluate the model's performance on the unlabeled data"
   ]
  },
  {
   "cell_type": "code",
   "execution_count": 66,
   "metadata": {
    "id": "CjFO-PxjgJya"
   },
   "outputs": [
    {
     "name": "stdout",
     "output_type": "stream",
     "text": [
      "Label Spreading model: 250 labeled & 750 unlabeled points (1000 total)\n",
      "              precision    recall  f1-score   support\n",
      "\n",
      "           0       0.99      1.00      0.99        73\n",
      "           1       0.89      0.99      0.94        76\n",
      "           2       0.96      1.00      0.98        69\n",
      "           3       0.93      0.96      0.95        72\n",
      "           4       1.00      0.97      0.99        68\n",
      "           5       0.99      0.98      0.98        83\n",
      "           6       1.00      1.00      1.00        84\n",
      "           7       0.99      0.97      0.98        79\n",
      "           8       0.95      0.83      0.89        70\n",
      "           9       0.93      0.92      0.93        76\n",
      "\n",
      "    accuracy                           0.96       750\n",
      "   macro avg       0.96      0.96      0.96       750\n",
      "weighted avg       0.96      0.96      0.96       750\n",
      "\n",
      "Confusion matrix\n",
      "[[73  0  0  0  0  0  0  0  0  0]\n",
      " [ 0 75  0  0  0  0  0  0  1  0]\n",
      " [ 0  0 69  0  0  0  0  0  0  0]\n",
      " [ 0  0  1 69  0  0  0  1  0  1]\n",
      " [ 0  1  0  0 66  0  0  0  0  1]\n",
      " [ 0  0  0  0  0 81  0  0  1  1]\n",
      " [ 0  0  0  0  0  0 84  0  0  0]\n",
      " [ 0  0  0  0  0  0  0 77  1  1]\n",
      " [ 0  7  2  1  0  1  0  0 58  1]\n",
      " [ 1  1  0  4  0  0  0  0  0 70]]\n"
     ]
    }
   ],
   "source": [
    "### START CODE HERE ###\n",
    "# Extract the label predictions for the unlabeled data\n",
    "predicted_labels = lp_model.predict(X[unlabeled_set])\n",
    "# Extract the true labels of the unlabeled data\n",
    "true_labels = y[unlabeled_set]\n",
    "# Compute the confusion matrix between the true and predicted labels of the unlabeled data\n",
    "cm = confusion_matrix(true_labels, predicted_labels)\n",
    "### END CODE HERE ###\n",
    "print(\"Label Spreading model: %d labeled & %d unlabeled points (%d total)\" %\n",
    "      (n_labeled_points, n_total_samples - n_labeled_points, n_total_samples))\n",
    "\n",
    "print(classification_report(true_labels, predicted_labels))\n",
    "\n",
    "print(\"Confusion matrix\")\n",
    "print(cm)"
   ]
  },
  {
   "cell_type": "markdown",
   "metadata": {
    "id": "Hwlk3ptY1YrL"
   },
   "source": [
    "### Exercise: Find the 10 most uncertain labels in descending order of uncertainty, i.e. the labels for which the model made the least confident predictions. Plot the associated images. Observe any discrepancies between predicted and true labels. Do you see any patterns? What might account for them? "
   ]
  },
  {
   "cell_type": "code",
   "execution_count": 67,
   "metadata": {},
   "outputs": [],
   "source": [
    "from scipy.stats import entropy"
   ]
  },
  {
   "cell_type": "code",
   "execution_count": 68,
   "metadata": {
    "id": "2ajvW97mgJyf"
   },
   "outputs": [
    {
     "data": {
      "image/png": "[encoded data removed]",
      "text/plain": [
       "<Figure size 504x360 with 10 Axes>"
      ]
     },
     "metadata": {},
     "output_type": "display_data"
    }
   ],
   "source": [
    "### START CODE HERE ###\n",
    "# Calculate uncertainty values for each transduced distribution\n",
    "# You may scipy stats' entropy() function useful.\n",
    "pred_entropies = entropy(lp_model.predict_proba(X[unlabeled_set]))\n",
    "\n",
    "# Pick the top 10 most uncertain labels, in descending order of uncertainty\n",
    "uncertainty_index = np.argsort(pred_entropies)[-100:]\n",
    "\n",
    "### END CODE HERE ###\n",
    "\n",
    "# Plot\n",
    "f = plt.figure(figsize=(7, 5))\n",
    "for index, image_index in enumerate(uncertainty_index):\n",
    "    image = images[image_index]\n",
    "\n",
    "    sub = f.add_subplot(2, 5, index + 1)\n",
    "    sub.imshow(image, cmap=plt.cm.gray_r)\n",
    "    plt.xticks([])\n",
    "    plt.yticks([])\n",
    "    sub.set_title('predict: %i\\ntrue: %i' % (\n",
    "        lp_model.transduction_[image_index], y[image_index]))\n",
    "\n",
    "f.suptitle('Learning with small amount of labeled data')\n",
    "plt.show()"
   ]
  },
  {
   "cell_type": "markdown",
   "metadata": {
    "id": "xD119mlU69jb"
   },
   "source": [
    "### Exercise: Repeat the experiment with 10, 100, and 250 labeled images. How do the differing numbers of labeled samples affect the model's performance? Which number detections yield the most errors?\n",
    "\n"
   ]
  },
  {
   "cell_type": "markdown",
   "metadata": {},
   "source": [
    "Unsurpisngly, as we feed the model more examples of labeled images, it performs much better. \n",
    "\n",
    "I saw F1 scores for 10, 100, and 250 labels go from 0.44 to 0.92 to 0.96 respectively. That a huge improvement and makes me think back to Andrew Ng's lecture at the beginning of our session around data-centric ML."
   ]
  },
  {
   "cell_type": "code",
   "execution_count": null,
   "metadata": {},
   "outputs": [],
   "source": []
  }
 ],
 "metadata": {
  "colab": {
   "collapsed_sections": [],
   "name": "4.1_Label_Propagation.ipynb",
   "provenance": [
    {
     "file_id": "1wR4Sk33vvBwuPkDoYo8VlGMChED39t0t",
     "timestamp": 1604606505111
    }
   ]
  },
  "kernelspec": {
   "display_name": "Python 3",
   "language": "python",
   "name": "python3"
  },
  "language_info": {
   "codemirror_mode": {
    "name": "ipython",
    "version": 3
   },
   "file_extension": ".py",
   "mimetype": "text/x-python",
   "name": "python",
   "nbconvert_exporter": "python",
   "pygments_lexer": "ipython3",
   "version": "3.7.7"
  }
 },
 "nbformat": 4,
 "nbformat_minor": 4
}
